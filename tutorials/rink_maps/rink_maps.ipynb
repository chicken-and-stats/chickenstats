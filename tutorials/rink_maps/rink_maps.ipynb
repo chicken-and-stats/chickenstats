{
 "cells": [
  {
   "cell_type": "markdown",
   "id": "bb7723b7-aa9d-4b43-9616-64b8d6a20f50",
   "metadata": {},
   "source": [
    "# Notebook for rink maps"
   ]
  },
  {
   "cell_type": "markdown",
   "id": "ed4cad37-4d91-4f59-ba95-8271b5313d8c",
   "metadata": {},
   "source": [
    "## Housekeeping"
   ]
  },
  {
   "cell_type": "markdown",
   "id": "66b35c5e-12a8-44bc-a649-0cd70f1c1bda",
   "metadata": {},
   "source": [
    "### Import dependencies"
   ]
  },
  {
   "cell_type": "code",
   "execution_count": 1,
   "id": "3a8cf30b-771d-4609-8463-b033fc5f6e04",
   "metadata": {},
   "outputs": [],
   "source": [
    "import pandas as pd\n",
    "import numpy as np\n",
    "\n",
    "from chickenstats.chicken_nhl import Season, Scraper\n",
    "from chickenstats.chicken_nhl.helpers import norm_coords\n",
    "from typing import Literal\n",
    "\n",
    "from hockey_rink import NHLRink, RinkImage\n",
    "import matplotlib.pyplot as plt\n",
    "import seaborn as sns"
   ]
  },
  {
   "cell_type": "markdown",
   "id": "cc05d3d0-f896-4612-82c5-3e03edf4fb3a",
   "metadata": {},
   "source": [
    "### Pandas options"
   ]
  },
  {
   "cell_type": "code",
   "execution_count": 2,
   "id": "32bec64e-a189-4cf7-9f3d-5e432f3aa540",
   "metadata": {},
   "outputs": [],
   "source": [
    "pd.set_option(\"display.max_columns\", None)\n",
    "pd.set_option(\"display.max_rows\", 100)"
   ]
  },
  {
   "cell_type": "markdown",
   "id": "f5ac0782-5846-459d-8e51-0fbf4e51a076",
   "metadata": {},
   "source": [
    "## Scrape data"
   ]
  },
  {
   "cell_type": "markdown",
   "id": "6635cb8b-e9d3-499f-9c76-a2a682fe0490",
   "metadata": {},
   "source": [
    "### Schedule and game IDs"
   ]
  },
  {
   "cell_type": "code",
   "execution_count": 5,
   "id": "f9f617c2-c771-4fc8-91af-316b9cec7824",
   "metadata": {},
   "outputs": [],
   "source": [
    "season = Season(2023)"
   ]
  },
  {
   "cell_type": "code",
   "execution_count": 6,
   "id": "6370fded-b161-4f9e-a99b-e8f9c7cd20de",
   "metadata": {},
   "outputs": [],
   "source": [
    "schedule = season.schedule(\"NSH\")"
   ]
  },
  {
   "cell_type": "code",
   "execution_count": 9,
   "id": "0a270cc0-af15-4a10-9740-16613d9bf72c",
   "metadata": {},
   "outputs": [],
   "source": [
    "game_id = schedule.game_id.iloc[0]"
   ]
  },
  {
   "cell_type": "markdown",
   "id": "d6123005-eff4-4e2a-96f2-36a0027abbcc",
   "metadata": {},
   "source": [
    "### Play-by-play"
   ]
  },
  {
   "cell_type": "code",
   "execution_count": 11,
   "id": "2f633de0-edc9-4568-a48b-750e02b89922",
   "metadata": {},
   "outputs": [],
   "source": [
    "scraper = Scraper(game_id)"
   ]
  },
  {
   "cell_type": "code",
   "execution_count": 5,
   "id": "4a89bad9-081b-49ed-8fd3-f3ef6497c1a9",
   "metadata": {},
   "outputs": [],
   "source": [
    "pbp = scraper.play_by_play"
   ]
  },
  {
   "cell_type": "code",
   "execution_count": null,
   "id": "1e85af25-6c5e-4f8b-a37d-a50f1143247d",
   "metadata": {},
   "outputs": [],
   "source": []
  },
  {
   "cell_type": "code",
   "execution_count": null,
   "id": "180f77bd-a74f-44e7-8936-2690f731d186",
   "metadata": {},
   "outputs": [],
   "source": []
  },
  {
   "cell_type": "markdown",
   "id": "24e86ce3-1211-4fb9-800b-3b7f06ce8cfd",
   "metadata": {},
   "source": [
    "## Rink plots"
   ]
  },
  {
   "cell_type": "markdown",
   "id": "bd6866ab-5622-4c56-8866-8a4921fdb006",
   "metadata": {},
   "source": [
    "### Practice drawing"
   ]
  },
  {
   "cell_type": "code",
   "execution_count": 23,
   "id": "747e06ba-6ec3-4acc-a268-328cd05d1583",
   "metadata": {},
   "outputs": [],
   "source": [
    "rink = NHLRink(rotation=90)"
   ]
  },
  {
   "cell_type": "code",
   "execution_count": 39,
   "id": "27fcfd67-2f31-4da5-932a-a226b53935c3",
   "metadata": {
    "scrolled": true
   },
   "outputs": [],
   "source": [
    "fig, ax = plt.subplots(dpi=650, figsize=(6, 6))\n",
    "\n",
    "rink.draw(display_range=\"ozone\", ax=ax)"
   ]
  },
  {
   "cell_type": "code",
   "execution_count": null,
   "id": "5e61e5d1-0209-4353-bb19-5e2e897d0c06",
   "metadata": {},
   "outputs": [],
   "source": []
  },
  {
   "cell_type": "code",
   "execution_count": null,
   "id": "c8486da1-3a71-41e3-b979-502d174e12b0",
   "metadata": {},
   "outputs": [],
   "source": []
  },
  {
   "cell_type": "code",
   "execution_count": null,
   "id": "8df74bb4-ae81-4db4-80bb-2e64b7665377",
   "metadata": {},
   "outputs": [],
   "source": []
  },
  {
   "cell_type": "code",
   "execution_count": 75,
   "id": "ba8fd84c-1a91-4590-8dbe-0f955794c084",
   "metadata": {},
   "outputs": [],
   "source": [
    "shot_events = [\"GOAL\", \"SHOT\", \"MISS\"]\n",
    "strengths = [\"5v5\"]\n",
    "\n",
    "conds = np.logical_and(pbp.event.isin(shot_events), pbp.strength_state.isin(strengths))\n",
    "\n",
    "shots = pbp.loc[conds].reset_index(drop=True)"
   ]
  },
  {
   "cell_type": "code",
   "execution_count": 114,
   "id": "9e4908af-89aa-467e-aea3-8f9f795e3d42",
   "metadata": {},
   "outputs": [],
   "source": [
    "rink = NHLRink()\n",
    "\n",
    "fig, ax = plt.subplots(dpi=650, figsize=(18, 8))\n",
    "\n",
    "rink.draw(\n",
    "    ax=ax,\n",
    ")\n",
    "\n",
    "data = norm_coords(shots, \"NSH\")\n",
    "\n",
    "data = data.loc[data.event_team == \"NSH\"]\n",
    "\n",
    "sns.scatterplot(\n",
    "    data=data,\n",
    "    x=\"norm_coords_x\",\n",
    "    y=\"norm_coords_y\",\n",
    "    s=data.pred_goal * 750,\n",
    "    ax=ax,\n",
    "    zorder=100,\n",
    ")\n",
    "\n",
    "# rink.plot_fn(sns.scatterplot, data=data, x=\"norm_coords_x\", y=\"norm_coords_y\", ax=ax)\n",
    "# rink.plot_fn(sns.scatterplot, data=data, x=\"coords_x\", y=\"coords_y\", sizes=100, ax=ax)"
   ]
  },
  {
   "cell_type": "code",
   "execution_count": 83,
   "id": "abdfb255-77fd-42af-b9bc-93e0741118bd",
   "metadata": {},
   "outputs": [],
   "source": [
    "rink = NHLRink()\n",
    "\n",
    "fig, ax = plt.subplots(dpi=650, figsize=(18, 8))\n",
    "\n",
    "rink.draw(ax=ax)\n",
    "\n",
    "# sns.scatterplot(data=shots, x=\"coords_x\", y=\"coords_y\", ax=ax)\n",
    "\n",
    "data = norm_coords(shots, \"NSH\")\n",
    "\n",
    "data = data.loc[data.event_team == \"NSH\"]\n",
    "\n",
    "rink.plot_fn(sns.scatterplot, data=data, x=\"norm_coords_x\", y=\"norm_coords_y\", ax=ax)\n",
    "# rink.plot_fn(sns.scatterplot, data=data, x=\"coords_x\", y=\"coords_y\", ax=ax)"
   ]
  },
  {
   "cell_type": "code",
   "execution_count": null,
   "id": "8dffbbec-2e7d-4f55-909e-5973496a5063",
   "metadata": {},
   "outputs": [],
   "source": [
    "shots.head(3)"
   ]
  },
  {
   "cell_type": "code",
   "execution_count": 85,
   "id": "87445213-cf84-48dc-8cd7-53a5e1a1c0bc",
   "metadata": {},
   "outputs": [],
   "source": [
    "shots.pred_goal.max()"
   ]
  },
  {
   "cell_type": "code",
   "execution_count": null,
   "id": "fcceddbc-8a2d-4c23-b23a-ab29b71eca2a",
   "metadata": {},
   "outputs": [],
   "source": []
  }
 ],
 "metadata": {
  "kernelspec": {
   "display_name": "Python 3 (ipykernel)",
   "language": "python",
   "name": "python3"
  },
  "language_info": {
   "codemirror_mode": {
    "name": "ipython",
    "version": 3
   },
   "file_extension": ".py",
   "mimetype": "text/x-python",
   "name": "python",
   "nbconvert_exporter": "python",
   "pygments_lexer": "ipython3",
   "version": "3.12.1"
  }
 },
 "nbformat": 4,
 "nbformat_minor": 5
}
