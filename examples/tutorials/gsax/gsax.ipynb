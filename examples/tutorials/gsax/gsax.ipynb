{
 "cells": [
  {
   "cell_type": "markdown",
   "id": "bcad6fbc-3092-4632-8aab-31797cfe3ae8",
   "metadata": {},
   "source": [
    "---\n",
    "icon: material/trending-up\n",
    "description: \"Learn how to analyze goals saved above expected with chickenstats\"\n",
    "---"
   ]
  },
  {
   "cell_type": "markdown",
   "id": "3c6467e2-ac38-4aa8-818d-c06ae19dc503",
   "metadata": {},
   "source": [
    "# **Tutorial for goals saved above expected**"
   ]
  },
  {
   "cell_type": "markdown",
   "id": "f6572690-19df-4ec0-8da7-1cd023cc4918",
   "metadata": {},
   "source": [
    "---"
   ]
  },
  {
   "cell_type": "markdown",
   "id": "918605a7-602f-4daa-9a1a-94daf3caac41",
   "metadata": {},
   "source": [
    "## **Intro**\n",
    "\n",
    "Use the `chickenstats` library to scrape play-by-play data and analyze goalies' goals saved above expected.\n",
    "\n",
    "Parts of this tutorial are optional and will be clearly marked as such. For help, or any questions,\n",
    "please don't hesitate to reach out to [chicken@chickenandstats.com](mailto:chicken@chickenandstats.com) or\n",
    "[@chickenandstats.com](https://bsky.app/profile/chickenandstats.com) on Blue Sky."
   ]
  },
  {
   "cell_type": "markdown",
   "id": "13cc21a0-eed2-4765-8837-caffcca06bf9",
   "metadata": {},
   "source": [
    "---"
   ]
  },
  {
   "cell_type": "markdown",
   "id": "74bb1cd4-8e9d-4718-ae6b-c694f0849848",
   "metadata": {},
   "source": [
    "## **Housekeeping**"
   ]
  },
  {
   "cell_type": "markdown",
   "id": "0d8a6d3d-e381-4b31-b5fd-b838f17fbb62",
   "metadata": {},
   "source": [
    "### Import dependencies\n",
    "\n",
    "Import the dependencies we'll need for the guide"
   ]
  },
  {
   "cell_type": "code",
   "execution_count": null,
   "id": "379cec3e-7c3d-4e97-85f2-4deb7783098e",
   "metadata": {},
   "outputs": [],
   "source": [
    "import pandas as pd\n",
    "import numpy as np\n",
    "\n",
    "from chickenstats.chicken_nhl import Season, Scraper\n",
    "from chickenstats.chicken_nhl.info import NHL_COLORS\n",
    "import chickenstats.utilities\n",
    "\n",
    "import matplotlib.pyplot as plt\n",
    "from matplotlib.lines import Line2D\n",
    "import matplotlib.patheffects as mpe\n",
    "import seaborn as sns\n",
    "\n",
    "import datetime as dt"
   ]
  },
  {
   "cell_type": "markdown",
   "id": "9d905c30-b77c-46bb-9acb-a1b3bd8c0196",
   "metadata": {},
   "source": [
    "### Pandas options\n",
    "\n",
    "Set different pandas options. This cell is optional"
   ]
  },
  {
   "cell_type": "code",
   "execution_count": null,
   "id": "12c81d6c-6459-4c92-8bf7-dd982eb5a619",
   "metadata": {},
   "outputs": [],
   "source": [
    "pd.set_option(\"display.max_columns\", None)\n",
    "pd.set_option(\"display.max_rows\", 100)"
   ]
  },
  {
   "cell_type": "markdown",
   "id": "fb887abf-c337-4484-88f1-6c20ff037c76",
   "metadata": {},
   "source": [
    "### Chickenstats matplotlib style\n",
    "\n",
    "chickenstats.utilities includes a custom style package - this activates it. This cell is also optional"
   ]
  },
  {
   "cell_type": "code",
   "execution_count": null,
   "id": "e232a090-3a52-4f51-88c9-359f55cefd14",
   "metadata": {},
   "outputs": [],
   "source": [
    "plt.style.use(\"chickenstats\")"
   ]
  },
  {
   "cell_type": "markdown",
   "id": "dbab4d04-abc2-4033-b81f-ff2216a7f83f",
   "metadata": {},
   "source": [
    "---"
   ]
  },
  {
   "cell_type": "markdown",
   "id": "5839efbe-4001-42b9-84b3-6eeee48e4537",
   "metadata": {},
   "source": [
    "## **Scrape data**"
   ]
  },
  {
   "cell_type": "markdown",
   "id": "b0d875eb-8f02-4764-b80d-c310007e6aff",
   "metadata": {},
   "source": [
    "### Schedule\n",
    "\n",
    "Scrape the schedule using the `Season` object"
   ]
  },
  {
   "cell_type": "code",
   "execution_count": null,
   "id": "ef3bf1fa-8f74-4a61-9108-af9b9854fdc6",
   "metadata": {},
   "outputs": [],
   "source": [
    "season = Season(2024)"
   ]
  },
  {
   "cell_type": "code",
   "execution_count": null,
   "id": "784dd5ba-f1ba-4616-8234-a71b35a56e28",
   "metadata": {},
   "outputs": [],
   "source": [
    "schedule = season.schedule(disable_progress_bar=True)"
   ]
  },
  {
   "cell_type": "markdown",
   "id": "f7401c42-3483-41b0-8488-37bb2e10c11a",
   "metadata": {},
   "source": [
    "### Standings and team names\n",
    "\n",
    "Scrape the standings and create team name dictionaries to use later"
   ]
  },
  {
   "cell_type": "code",
   "execution_count": null,
   "id": "6eeddd2f-105d-4807-a934-34e52211b70e",
   "metadata": {},
   "outputs": [],
   "source": [
    "standings = season.standings.copy(deep=True)"
   ]
  },
  {
   "cell_type": "code",
   "execution_count": null,
   "id": "4f96216b-fd72-4053-82c2-c45ee393f4e1",
   "metadata": {},
   "outputs": [],
   "source": [
    "team_names = standings.sort_values(by=\"team_name\").team_name.str.upper().tolist()\n",
    "team_codes = standings.sort_values(by=\"team_name\").team.str.upper().tolist()\n",
    "team_names_dict = dict(zip(team_codes, team_names))"
   ]
  },
  {
   "cell_type": "markdown",
   "id": "f04be148-501d-4f52-93a2-1652da952716",
   "metadata": {},
   "source": [
    "### Game IDs\n",
    "\n",
    "Create a list of game IDs to crape"
   ]
  },
  {
   "cell_type": "code",
   "execution_count": null,
   "id": "02a500c2-24b5-408b-8efd-ec72b82a3533",
   "metadata": {},
   "outputs": [],
   "source": [
    "conds = schedule.game_state == \"OFF\"\n",
    "\n",
    "game_ids = schedule.loc[conds].game_id.unique().tolist()"
   ]
  },
  {
   "cell_type": "markdown",
   "id": "eead7a9e-7d45-4960-9cba-d93a3f76cff3",
   "metadata": {},
   "source": [
    "### Play-by-play\n",
    "\n",
    "Scrape play-by-play data using the `Scraper` object"
   ]
  },
  {
   "cell_type": "code",
   "execution_count": null,
   "id": "0275d426-2732-4385-b605-e7a8f38be491",
   "metadata": {},
   "outputs": [],
   "source": [
    "scraper = Scraper(game_ids, disable_progress_bar=True)"
   ]
  },
  {
   "cell_type": "code",
   "execution_count": null,
   "id": "6156d8a3-f0f7-4939-910a-8d18e18f4765",
   "metadata": {},
   "outputs": [],
   "source": [
    "pbp = scraper.play_by_play"
   ]
  },
  {
   "cell_type": "markdown",
   "id": "e5427e64-55f6-4714-8403-0ce869b3c456",
   "metadata": {},
   "source": [
    "### Stats\n",
    "\n",
    "Aggregate statistics to season and game level"
   ]
  },
  {
   "cell_type": "code",
   "execution_count": null,
   "id": "3244f777-070e-42ff-a0e3-bf8fe0415675",
   "metadata": {},
   "outputs": [],
   "source": [
    "scraper.prep_stats(level=\"season\", disable_progress_bar=True)\n",
    "season_stats = scraper.stats.copy(deep=True)"
   ]
  },
  {
   "cell_type": "code",
   "execution_count": null,
   "id": "db07e8fc-0931-4438-a129-c938d858dfc5",
   "metadata": {},
   "outputs": [],
   "source": [
    "scraper.prep_stats(level=\"game\", disable_progress_bar=True)\n",
    "game_stats = scraper.stats.copy(deep=True)"
   ]
  },
  {
   "cell_type": "markdown",
   "id": "c2bcf6b7-444d-431e-93e1-e25eaff9c864",
   "metadata": {},
   "source": [
    "### Goalie dataframes\n",
    "\n",
    "Filter the dataframes for goalies and add goals saved above expected stats"
   ]
  },
  {
   "cell_type": "code",
   "execution_count": null,
   "id": "a0b1190d-e2ce-40a7-a94a-b9bf203f9e6d",
   "metadata": {},
   "outputs": [],
   "source": [
    "def prep_goalie_df(data: pd.DataFrame, strengths: bool) -> pd.DataFrame:\n",
    "    \"\"\"Prep goalie dataframes for later analysis.\n",
    "\n",
    "    Parameters:\n",
    "        data (pd.DataFrame):\n",
    "            Pandas dataframe of individual statistics scraped using `chickenstats` library\n",
    "        strengths (bool):\n",
    "            If False, aggregates data to all strengths states. If True, data are aggregated\n",
    "            to strength state level\n",
    "\n",
    "    \"\"\"\n",
    "    df = data.copy(deep=True)\n",
    "\n",
    "    df = df.loc[df.position == \"G\"].reset_index(drop=True)\n",
    "\n",
    "    if not strengths:\n",
    "        group_cols = [\n",
    "            \"season\",\n",
    "            \"session\",\n",
    "            \"game_id\",\n",
    "            \"game_date\",\n",
    "            \"player\",\n",
    "            \"eh_id\",\n",
    "            \"api_id\",\n",
    "            \"position\",\n",
    "            \"team\",\n",
    "            \"opp_team\",\n",
    "        ]\n",
    "\n",
    "        group_cols = [x for x in group_cols if x in df.columns]\n",
    "\n",
    "        agg_stats = {\n",
    "            x: \"sum\"\n",
    "            for x in df.columns\n",
    "            if x not in group_cols\n",
    "            and x != \"strength_state\"\n",
    "            and \"percent\" not in x\n",
    "            and \"p60\" not in x\n",
    "        }\n",
    "\n",
    "        df = df.groupby(group_cols, as_index=False).agg(agg_stats)\n",
    "\n",
    "    df[\"gsax\"] = df.xga - df.ga\n",
    "    df[\"gsax_p60\"] = df.gsax / df.toi * 60\n",
    "\n",
    "    return df"
   ]
  },
  {
   "cell_type": "code",
   "execution_count": null,
   "id": "f2307dc2-0896-45f5-aa29-adba7e32373f",
   "metadata": {},
   "outputs": [],
   "source": [
    "goalies_game = prep_goalie_df(data=game_stats, strengths=True)"
   ]
  },
  {
   "cell_type": "code",
   "execution_count": null,
   "id": "e2a0784e-877b-4f2f-b507-8482c39d8744",
   "metadata": {},
   "outputs": [],
   "source": [
    "goalies_game_all_sit = prep_goalie_df(data=game_stats, strengths=False)"
   ]
  },
  {
   "cell_type": "code",
   "execution_count": null,
   "id": "b552c3c2-700b-4aa7-97cc-7fe056f24fe6",
   "metadata": {},
   "outputs": [],
   "source": [
    "goalies_season = prep_goalie_df(data=season_stats, strengths=True)"
   ]
  },
  {
   "cell_type": "code",
   "execution_count": null,
   "id": "7450760d-f29e-41d7-94f6-263bf663150a",
   "metadata": {},
   "outputs": [],
   "source": [
    "goalies_season_all_sit = prep_goalie_df(data=season_stats, strengths=False)"
   ]
  },
  {
   "cell_type": "markdown",
   "id": "c43f815c-6e63-4c03-81b5-8301bc2bdb71",
   "metadata": {},
   "source": [
    "## **GSaX line charts**"
   ]
  },
  {
   "cell_type": "markdown",
   "id": "dd394bed-544d-406a-a0b5-49f532d42d78",
   "metadata": {},
   "source": [
    "### Prepping data\n",
    "\n",
    "Calculating cumlative stats"
   ]
  },
  {
   "cell_type": "code",
   "execution_count": null,
   "id": "9d6c2bde-19e5-4861-bfd6-5e2a1dd8ac7a",
   "metadata": {},
   "outputs": [],
   "source": [
    "def calc_cumulative_stats(data: pd.DataFrame) -> pd.DataFrame:\n",
    "    \"\"\"Calculate cumulative TOI and xG against.\n",
    "\n",
    "    Parameters:\n",
    "        data (pd.DataFrame):\n",
    "            Pandas dataframe of statistics aggregated from the `chickenstats` library and\n",
    "            prepped for goalie analysis\n",
    "    \"\"\"\n",
    "    df = data.copy(deep=True)\n",
    "\n",
    "    group_list = [\"season\", \"session\", \"player\", \"eh_id\", \"api_id\", \"team\"]\n",
    "\n",
    "    df[\"cum_gp\"] = df.groupby(group_list)[\"game_id\"].transform(\"cumcount\") + 1\n",
    "\n",
    "    df[\"cum_toi\"] = df.groupby(group_list)[\"toi\"].transform(\"cumsum\")\n",
    "\n",
    "    df[\"cum_gsax\"] = df.groupby(group_list)[\"gsax\"].transform(\"cumsum\")\n",
    "\n",
    "    return df"
   ]
  },
  {
   "cell_type": "code",
   "execution_count": null,
   "id": "353a1f65-07a4-4157-afc5-8a8c5c43d4f2",
   "metadata": {},
   "outputs": [],
   "source": [
    "goalies_game_all_sit = calc_cumulative_stats(data=goalies_game_all_sit)"
   ]
  },
  {
   "cell_type": "markdown",
   "id": "d04f2147-dbb6-4faa-8c9b-61ce2890fd08",
   "metadata": {},
   "source": [
    "### Top-6 goalies\n",
    "\n",
    "Create the top goalies dataframe to iterate through for plotting"
   ]
  },
  {
   "cell_type": "code",
   "execution_count": null,
   "id": "5248ac57-365e-4568-b3b9-9819cbf3ccc6",
   "metadata": {},
   "outputs": [],
   "source": [
    "top_goalies = (\n",
    "    goalies_season_all_sit.sort_values(by=\"gsax\", ascending=False)\n",
    "    .head(6)\n",
    "    .reset_index(drop=True)\n",
    ")"
   ]
  },
  {
   "cell_type": "markdown",
   "id": "0518b795-4c90-4a6c-a480-d563bea7d63b",
   "metadata": {},
   "source": [
    "### Plot cumulative GSaX and TOI\n",
    "\n",
    "Cumulative time-on-ice and goals saved above expected for top-6 goalies in NHL"
   ]
  },
  {
   "cell_type": "code",
   "execution_count": null,
   "id": "a46f971b-7c1c-406f-8265-c69585a25b2a",
   "metadata": {},
   "outputs": [],
   "source": [
    "## setting figure size\n",
    "\n",
    "fig_size = (15, 15)\n",
    "\n",
    "fig, axes = plt.subplots(3, 2, figsize=fig_size, dpi=650, sharex=True, sharey=True)\n",
    "\n",
    "fig.tight_layout(pad=5)\n",
    "\n",
    "axes = axes.reshape(-1)\n",
    "\n",
    "for idx, top_goalie in top_goalies.iterrows():\n",
    "    ax = axes[idx]\n",
    "\n",
    "    plot_df = goalies_game_all_sit.copy()\n",
    "\n",
    "    color_palette = np.where(\n",
    "        plot_df.api_id == top_goalie.api_id,\n",
    "        NHL_COLORS[top_goalie.team][\"SHOT\"],\n",
    "        NHL_COLORS[top_goalie.team][\"MISS\"],\n",
    "    )\n",
    "\n",
    "    color_palette = dict(zip(plot_df.player, color_palette))\n",
    "\n",
    "    line_color = NHL_COLORS[top_goalie.team][\"MISS\"]\n",
    "    line_width = 3\n",
    "\n",
    "    conds = plot_df.player != top_goalie.player\n",
    "\n",
    "    sns.lineplot(\n",
    "        x=\"cum_toi\",\n",
    "        y=\"cum_gsax\",\n",
    "        data=plot_df[conds],\n",
    "        hue=\"player\",\n",
    "        palette=color_palette,\n",
    "        ax=ax,\n",
    "        lw=line_width,\n",
    "    )\n",
    "\n",
    "    conds = plot_df.player == top_goalie.player\n",
    "    line_color = NHL_COLORS[top_goalie.team][\"SHOT\"]\n",
    "    line_width = 6\n",
    "    path_effect_ec = NHL_COLORS[top_goalie.team][\"GOAL\"]\n",
    "\n",
    "    path_effect = [\n",
    "        mpe.Stroke(linewidth=3.25, foreground=line_color),\n",
    "        mpe.Stroke(foreground=path_effect_ec, alpha=1, linewidth=4),\n",
    "        mpe.Normal(),\n",
    "    ]\n",
    "\n",
    "    sns.lineplot(\n",
    "        x=\"cum_toi\",\n",
    "        y=\"cum_gsax\",\n",
    "        data=plot_df[conds],\n",
    "        hue=\"player\",\n",
    "        palette=color_palette,\n",
    "        ax=ax,\n",
    "        zorder=3,\n",
    "        path_effects=path_effect,\n",
    "    )\n",
    "\n",
    "    ax.set_title(top_goalie.player, size=18, weight=\"heavy\", pad=15)\n",
    "\n",
    "    if idx in [0, 2, 4]:\n",
    "        ax.set_ylabel(\"Cumulative GSaX\", size=16, labelpad=15, weight=\"heavy\")\n",
    "\n",
    "    else:\n",
    "        ax.set_ylabel(\"\")\n",
    "        ax.yaxis.set_tick_params(which=\"both\", labelbottom=True)\n",
    "\n",
    "    if idx >= 4:\n",
    "        ax.set_xlabel(\n",
    "            \"Cumulative time-on-ice (minutes)\", size=16, labelpad=15, weight=\"heavy\"\n",
    "        )\n",
    "\n",
    "    else:\n",
    "        ax.set_xlabel(\"\")\n",
    "        ax.xaxis.set_tick_params(which=\"both\", labelbottom=True)\n",
    "\n",
    "    legend_elements = list()\n",
    "    color = NHL_COLORS[top_goalie.team][\"SHOT\"]\n",
    "    edge_color = color\n",
    "\n",
    "    xG = round(top_goalie.gsax, 2)\n",
    "\n",
    "    toi_max = round(top_goalie.toi, 2)\n",
    "\n",
    "    label = f\"{xG} GSaX in {toi_max} minutes\"\n",
    "\n",
    "    element = Line2D([0], [0], lw=3, label=label, color=color)\n",
    "\n",
    "    legend_elements.append(element)\n",
    "\n",
    "    legend = ax.legend(\n",
    "        handles=legend_elements,\n",
    "        loc=\"upper left\",\n",
    "        ncol=1,\n",
    "        fontsize=14,\n",
    "        title_fontsize=12,\n",
    "        facecolor=\"white\",\n",
    "        framealpha=1,\n",
    "        edgecolor=\"gray\",\n",
    "    ).set_zorder(-1)\n",
    "\n",
    "    ax.xaxis.set_tick_params(labelsize=16)\n",
    "    ax.yaxis.set_tick_params(labelsize=16)\n",
    "\n",
    "\n",
    "title = \"Top-6 goaltenders by cumulative goals saved above expected\"\n",
    "fig.suptitle(title, ha=\"center\", va=\"center\", y=1.027, size=24, weight=\"heavy\")\n",
    "\n",
    "todays_date = dt.datetime.now().strftime(\"%Y-%m-%d\")\n",
    "subtitle = f\"Cumulative GSaX & cumulative TOI, all situations | 2024-25 season, as of {todays_date}\"\n",
    "fig.text(s=subtitle, ha=\"center\", va=\"center\", x=0.5, y=1.001, size=18)\n",
    "\n",
    "\n",
    "# Attribution\n",
    "attribution = f\"Data & xG model @chickenandstats.com | Viz @chickenandstats.com\"\n",
    "fig.text(\n",
    "    s=attribution,\n",
    "    x=0.99,\n",
    "    y=-0.0125,\n",
    "    fontsize=12,\n",
    "    horizontalalignment=\"right\",\n",
    "    style=\"italic\",\n",
    ")\n",
    "\n",
    "fig.savefig(\"./charts/top_6_gsax.png\", dpi=650, bbox_inches=\"tight\", facecolor=\"white\")"
   ]
  }
 ],
 "metadata": {
  "kernelspec": {
   "display_name": "Python 3 (ipykernel)",
   "language": "python",
   "name": "python3"
  },
  "language_info": {
   "codemirror_mode": {
    "name": "ipython",
    "version": 3
   },
   "file_extension": ".py",
   "mimetype": "text/x-python",
   "name": "python",
   "nbconvert_exporter": "python",
   "pygments_lexer": "ipython3",
   "version": "3.12.6"
  }
 },
 "nbformat": 4,
 "nbformat_minor": 5
}
