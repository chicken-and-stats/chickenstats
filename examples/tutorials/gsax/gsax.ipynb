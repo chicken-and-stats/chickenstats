{
 "cells": [
  {
   "cell_type": "markdown",
   "id": "3c6467e2-ac38-4aa8-818d-c06ae19dc503",
   "metadata": {},
   "source": [
    "# Notebook for lollipops"
   ]
  },
  {
   "cell_type": "markdown",
   "id": "74bb1cd4-8e9d-4718-ae6b-c694f0849848",
   "metadata": {},
   "source": [
    "## Housekeeping"
   ]
  },
  {
   "cell_type": "markdown",
   "id": "0d8a6d3d-e381-4b31-b5fd-b838f17fbb62",
   "metadata": {},
   "source": [
    "### Import dependencies"
   ]
  },
  {
   "cell_type": "code",
   "execution_count": null,
   "id": "379cec3e-7c3d-4e97-85f2-4deb7783098e",
   "metadata": {},
   "outputs": [],
   "source": [
    "import pandas as pd\n",
    "import numpy as np\n",
    "\n",
    "import chickenstats\n",
    "\n",
    "from chickenstats.chicken_nhl import Season, Scraper\n",
    "from chickenstats.chicken_nhl.helpers import norm_coords\n",
    "from chickenstats.chicken_nhl.info import NHL_COLORS, team_codes\n",
    "import chickenstats.utilities\n",
    "from chickenstats.api import ChickenStats, ChickenUser, ChickenToken\n",
    "\n",
    "from hockey_rink import NHLRink\n",
    "import matplotlib.pyplot as plt\n",
    "import matplotlib as mpl\n",
    "from matplotlib.lines import Line2D\n",
    "import matplotlib.patches as patches\n",
    "import matplotlib.patheffects as mpe\n",
    "import matplotlib.ticker as ticker\n",
    "import seaborn as sns\n",
    "\n",
    "from dotenv import load_dotenv\n",
    "from pathlib import Path\n",
    "\n",
    "import datetime as dt\n",
    "\n",
    "import math\n",
    "\n",
    "from typing import Optional"
   ]
  },
  {
   "cell_type": "markdown",
   "id": "9d905c30-b77c-46bb-9acb-a1b3bd8c0196",
   "metadata": {},
   "source": [
    "### Pandas options"
   ]
  },
  {
   "cell_type": "code",
   "execution_count": null,
   "id": "12c81d6c-6459-4c92-8bf7-dd982eb5a619",
   "metadata": {},
   "outputs": [],
   "source": [
    "pd.set_option(\"display.max_columns\", None)\n",
    "pd.set_option(\"display.max_rows\", 100)"
   ]
  },
  {
   "cell_type": "markdown",
   "id": "47672d64-f306-4570-becb-d751d70e09c3",
   "metadata": {},
   "source": [
    "### Environment variables"
   ]
  },
  {
   "cell_type": "code",
   "execution_count": null,
   "id": "6ac6723f-2c01-42f9-b94f-acb860f607a5",
   "metadata": {},
   "outputs": [],
   "source": [
    "env_path = Path(\"../.env\")\n",
    "load_dotenv(env_path)"
   ]
  },
  {
   "cell_type": "markdown",
   "id": "fb887abf-c337-4484-88f1-6c20ff037c76",
   "metadata": {},
   "source": [
    "### Chickenstats matplotlib style"
   ]
  },
  {
   "cell_type": "code",
   "execution_count": null,
   "id": "e232a090-3a52-4f51-88c9-359f55cefd14",
   "metadata": {},
   "outputs": [],
   "source": [
    "plt.style.use(\"chickenstats\")"
   ]
  },
  {
   "cell_type": "markdown",
   "id": "942f36d3-7868-4d35-ba31-4163e6a1a26f",
   "metadata": {},
   "source": [
    "## API instance"
   ]
  },
  {
   "cell_type": "markdown",
   "id": "a1a781b7-124a-4f29-a50a-00cacc66da38",
   "metadata": {},
   "source": [
    "### Connect to API"
   ]
  },
  {
   "cell_type": "code",
   "execution_count": null,
   "id": "76e4b2e6-0b5f-48ac-b6eb-70cb745eb0a2",
   "metadata": {},
   "outputs": [],
   "source": [
    "api_instance = ChickenStats(api_url=\"http://macstudio.local\")"
   ]
  },
  {
   "cell_type": "markdown",
   "id": "5839efbe-4001-42b9-84b3-6eeee48e4537",
   "metadata": {},
   "source": [
    "## Scrape data"
   ]
  },
  {
   "cell_type": "markdown",
   "id": "b0d875eb-8f02-4764-b80d-c310007e6aff",
   "metadata": {},
   "source": [
    "### Schedule"
   ]
  },
  {
   "cell_type": "code",
   "execution_count": null,
   "id": "ef3bf1fa-8f74-4a61-9108-af9b9854fdc6",
   "metadata": {},
   "outputs": [],
   "source": [
    "season = Season(2024)"
   ]
  },
  {
   "cell_type": "code",
   "execution_count": null,
   "id": "784dd5ba-f1ba-4616-8234-a71b35a56e28",
   "metadata": {},
   "outputs": [],
   "source": [
    "schedule = season.schedule()"
   ]
  },
  {
   "cell_type": "markdown",
   "id": "f7401c42-3483-41b0-8488-37bb2e10c11a",
   "metadata": {},
   "source": [
    "### Standings and team names"
   ]
  },
  {
   "cell_type": "code",
   "execution_count": null,
   "id": "6eeddd2f-105d-4807-a934-34e52211b70e",
   "metadata": {},
   "outputs": [],
   "source": [
    "standings = season.standings"
   ]
  },
  {
   "cell_type": "code",
   "execution_count": null,
   "id": "4f96216b-fd72-4053-82c2-c45ee393f4e1",
   "metadata": {},
   "outputs": [],
   "source": [
    "team_names = standings.sort_values(by=\"team_name\").team_name.str.upper().tolist()\n",
    "team_codes = standings.sort_values(by=\"team_name\").team.str.upper().tolist()\n",
    "team_names_dict = dict(zip(team_codes, team_names))"
   ]
  },
  {
   "cell_type": "markdown",
   "id": "f04be148-501d-4f52-93a2-1652da952716",
   "metadata": {},
   "source": [
    "### Game IDs"
   ]
  },
  {
   "cell_type": "code",
   "execution_count": null,
   "id": "f8caa9a5-6c50-4ab8-80db-5979d7b8a894",
   "metadata": {},
   "outputs": [],
   "source": [
    "api_game_ids = api_instance.check_pbp_game_ids(season=[20242025])"
   ]
  },
  {
   "cell_type": "code",
   "execution_count": null,
   "id": "02a500c2-24b5-408b-8efd-ec72b82a3533",
   "metadata": {},
   "outputs": [],
   "source": [
    "conds = np.logical_and(\n",
    "    schedule.game_state == \"OFF\", ~schedule.game_id.isin(api_game_ids)\n",
    ")\n",
    "\n",
    "game_ids = schedule.loc[conds].game_id.unique().tolist()"
   ]
  },
  {
   "cell_type": "markdown",
   "id": "eead7a9e-7d45-4960-9cba-d93a3f76cff3",
   "metadata": {},
   "source": [
    "### Play-by-play"
   ]
  },
  {
   "cell_type": "code",
   "execution_count": null,
   "id": "0275d426-2732-4385-b605-e7a8f38be491",
   "metadata": {},
   "outputs": [],
   "source": [
    "scraper = Scraper(game_ids)"
   ]
  },
  {
   "cell_type": "code",
   "execution_count": null,
   "id": "6156d8a3-f0f7-4939-910a-8d18e18f4765",
   "metadata": {},
   "outputs": [],
   "source": [
    "pbp = scraper.play_by_play"
   ]
  },
  {
   "cell_type": "markdown",
   "id": "e5427e64-55f6-4714-8403-0ce869b3c456",
   "metadata": {},
   "source": [
    "### Stats"
   ]
  },
  {
   "cell_type": "code",
   "execution_count": null,
   "id": "3244f777-070e-42ff-a0e3-bf8fe0415675",
   "metadata": {},
   "outputs": [],
   "source": [
    "scraper.prep_stats(level=\"period\", score=True, teammates=True, opposition=True)\n",
    "stats = scraper.stats"
   ]
  },
  {
   "cell_type": "markdown",
   "id": "bdc2d23e-418f-4d69-a366-a3678d2299cd",
   "metadata": {},
   "source": [
    "### API IDs"
   ]
  },
  {
   "cell_type": "code",
   "execution_count": null,
   "id": "8b08caa3-2379-4b16-a7f0-824367d8c4b7",
   "metadata": {},
   "outputs": [],
   "source": [
    "conds = np.logical_and(\n",
    "    schedule.game_state == \"OFF\",\n",
    "    np.logical_or(schedule.home_team == \"NSH\", schedule.away_team == \"NSH\"),\n",
    ")\n",
    "\n",
    "nsh_ids = schedule.loc[conds].game_id.unique().tolist()"
   ]
  },
  {
   "cell_type": "code",
   "execution_count": null,
   "id": "f6f9024a-acdf-4e7c-a50c-3e0e1f50cb0d",
   "metadata": {},
   "outputs": [],
   "source": [
    "api_pbp = api_instance.download_pbp(game_id=nsh_ids)"
   ]
  },
  {
   "cell_type": "code",
   "execution_count": null,
   "id": "53e15dd2-49bb-4d27-9c7c-6c83bd868ba3",
   "metadata": {},
   "outputs": [],
   "source": [
    "seasons = [int(f\"{x}{x+1}\") for x in range(2010, 2025)]\n",
    "\n",
    "strengths = [\"5v5\", \"3v3\", \"4v4\", \"5v4\", \"5v3\", \"4v3\"]\n",
    "\n",
    "\n",
    "stamkos_stats = api_instance.download_game_stats(\n",
    "    season=seasons, player=\"STEVEN STAMKOS\", strength_state=strengths\n",
    ")"
   ]
  },
  {
   "cell_type": "code",
   "execution_count": null,
   "id": "e82adfad-5859-4f1c-bcc2-2caa9612316c",
   "metadata": {},
   "outputs": [],
   "source": [
    "scraper = Scraper(2024020369)"
   ]
  },
  {
   "cell_type": "code",
   "execution_count": null,
   "id": "f0b6c19f-edfd-4be5-b0d2-5256bb269259",
   "metadata": {},
   "outputs": [],
   "source": [
    "pbp = scraper.play_by_play"
   ]
  },
  {
   "cell_type": "code",
   "execution_count": null,
   "id": "6734d615-9034-4703-a6d7-ee81b7988fbf",
   "metadata": {},
   "outputs": [],
   "source": [
    "stats = scraper.stats"
   ]
  },
  {
   "cell_type": "code",
   "execution_count": null,
   "id": "d6c7296b-5889-48ea-a214-0a4f42064446",
   "metadata": {},
   "outputs": [],
   "source": [
    "stats.sort_values(by=\"icf_p60\", ascending=False)"
   ]
  },
  {
   "cell_type": "code",
   "execution_count": null,
   "id": "a043ee27-7441-479a-9e01-409a49f2ff5d",
   "metadata": {},
   "outputs": [],
   "source": [
    "game_ids_pbp_api = api_instance.check_pbp_game_ids(season=[20242025])"
   ]
  },
  {
   "cell_type": "code",
   "execution_count": null,
   "id": "3711547f-4baa-4383-bf54-48e09ba227aa",
   "metadata": {},
   "outputs": [],
   "source": [
    "game_ids_stats_api = api_instance.check_stats_game_ids(season=[20242025])"
   ]
  },
  {
   "cell_type": "code",
   "execution_count": null,
   "id": "129ce036-f91b-4617-b888-343160655ad4",
   "metadata": {},
   "outputs": [],
   "source": [
    "[x for x in game_ids_pbp_api if x not in game_ids_stats_api]"
   ]
  },
  {
   "cell_type": "code",
   "execution_count": null,
   "id": "594b8935-03cb-426a-a7a5-b0ad95584694",
   "metadata": {},
   "outputs": [],
   "source": [
    "conds = np.logical_and(pbp.game_id.isin(game_ids_api), ~pbp.id.isin(play_ids_api))\n",
    "\n",
    "# api_instance.upload_pbp(pbp.loc[conds].copy(deep=True))\n",
    "\n",
    "pbp.loc[conds]"
   ]
  },
  {
   "cell_type": "code",
   "execution_count": null,
   "id": "e0bb5247-2a6b-41ac-bce9-8d1474aba889",
   "metadata": {},
   "outputs": [],
   "source": [
    "game_ids_api[-1]"
   ]
  },
  {
   "cell_type": "code",
   "execution_count": null,
   "id": "94df7570-e843-4fe7-856e-c639bc64931d",
   "metadata": {},
   "outputs": [],
   "source": [
    "api_instance = ChickenStats(api_url=\"http://macstudio.local\")"
   ]
  },
  {
   "cell_type": "code",
   "execution_count": null,
   "id": "db211869-7bcd-4bd5-8d79-8b645c38212b",
   "metadata": {},
   "outputs": [],
   "source": [
    "test_stuff = api_instance.download_pbp(game_id=2023020001)"
   ]
  },
  {
   "cell_type": "code",
   "execution_count": null,
   "id": "5c53478d-bf53-4378-b459-efee82c5c54c",
   "metadata": {},
   "outputs": [],
   "source": [
    "test_stuff"
   ]
  },
  {
   "cell_type": "code",
   "execution_count": null,
   "id": "bb59f4aa-6082-468a-9d64-8a65e9b13544",
   "metadata": {},
   "outputs": [],
   "source": [
    "api_instance.upload_stats(stats)"
   ]
  },
  {
   "cell_type": "code",
   "execution_count": null,
   "id": "ad2772fa-30fe-4293-89ff-38e423999934",
   "metadata": {},
   "outputs": [],
   "source": [
    "player = [\"JUUSE SAROS\", \"FILIP FORSBERG\", \"MATT DUCHENE\"]\n",
    "strengths = [\"5v5\"]\n",
    "# strengths=None\n",
    "\n",
    "\n",
    "stats = api_instance.download_game_stats(player=player, strength_state=strengths)"
   ]
  },
  {
   "cell_type": "code",
   "execution_count": null,
   "id": "08d11bff-40bf-4506-bddc-c51f31ce97bf",
   "metadata": {},
   "outputs": [],
   "source": [
    "stats"
   ]
  },
  {
   "cell_type": "code",
   "execution_count": null,
   "id": "80f314d3-c170-417c-9f9c-cbcea388ff9e",
   "metadata": {},
   "outputs": [],
   "source": [
    "player = \"JUUSE.SAROS\"\n",
    "strengths = [\"5v5\"]\n",
    "\n",
    "conds = np.logical_and(stats.eh_id == player, stats.strength_state.isin(strengths))\n",
    "\n",
    "stats.loc[conds].sort_values(by=\"toi\", ascending=False)"
   ]
  },
  {
   "cell_type": "code",
   "execution_count": null,
   "id": "49bd0338-a8c2-440e-86f1-461f836740cf",
   "metadata": {},
   "outputs": [],
   "source": [
    "pbp.loc[pbp.game_id == 2024020028].head(100)"
   ]
  },
  {
   "cell_type": "code",
   "execution_count": null,
   "id": "b07ee5e6-54cb-4093-ab84-097b27a3145b",
   "metadata": {},
   "outputs": [],
   "source": [
    "api_instance = ChickenStats(api_url=\"http://macstudio.local\")"
   ]
  },
  {
   "cell_type": "code",
   "execution_count": null,
   "id": "0a4f837e-f49f-4c2a-bd8d-ed44456a5dd8",
   "metadata": {},
   "outputs": [],
   "source": [
    "test = api_instance.download_game_stats(\n",
    "    player=\"JUUSE SAROS\", season=years, strength_state=\"5v5\"\n",
    ")"
   ]
  },
  {
   "cell_type": "code",
   "execution_count": null,
   "id": "7646db4a-5bab-4070-b447-90df1159ac1d",
   "metadata": {},
   "outputs": [],
   "source": [
    "game_ids = [2024020001, 2024020002]\n",
    "\n",
    "scraper = Scraper(game_ids)"
   ]
  },
  {
   "cell_type": "code",
   "execution_count": null,
   "id": "0bb51789-6da3-4f51-85f7-2d17ee99dc59",
   "metadata": {},
   "outputs": [],
   "source": [
    "pbp = scraper.play_by_play"
   ]
  },
  {
   "cell_type": "code",
   "execution_count": null,
   "id": "20bc06fe-5030-441f-8c29-b7566c4c48c8",
   "metadata": {},
   "outputs": [],
   "source": [
    "scraper.prep_stats(level=\"period\", score=True, teammates=True, opposition=True)\n",
    "stats = scraper.stats"
   ]
  },
  {
   "cell_type": "code",
   "execution_count": null,
   "id": "cb5b277d-5c3c-41c5-94aa-64b832911a32",
   "metadata": {},
   "outputs": [],
   "source": [
    "api_instance.upload_stats(stats)"
   ]
  },
  {
   "cell_type": "code",
   "execution_count": null,
   "id": "680f7baf-ed70-4fb4-9b4d-bb9bc0826cb5",
   "metadata": {},
   "outputs": [],
   "source": [
    "help(scraper.prep_stats)"
   ]
  }
 ],
 "metadata": {
  "kernelspec": {
   "display_name": "Python 3 (ipykernel)",
   "language": "python",
   "name": "python3"
  },
  "language_info": {
   "codemirror_mode": {
    "name": "ipython",
    "version": 3
   },
   "file_extension": ".py",
   "mimetype": "text/x-python",
   "name": "python",
   "nbconvert_exporter": "python",
   "pygments_lexer": "ipython3",
   "version": "3.12.6"
  }
 },
 "nbformat": 4,
 "nbformat_minor": 5
}
