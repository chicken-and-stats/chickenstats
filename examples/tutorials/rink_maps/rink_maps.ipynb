{
 "cells": [
  {
   "cell_type": "markdown",
   "id": "bb7723b7-aa9d-4b43-9616-64b8d6a20f50",
   "metadata": {},
   "source": [
    "# Notebook for rink maps"
   ]
  },
  {
   "cell_type": "markdown",
   "id": "ed4cad37-4d91-4f59-ba95-8271b5313d8c",
   "metadata": {},
   "source": [
    "## Housekeeping"
   ]
  },
  {
   "cell_type": "markdown",
   "id": "66b35c5e-12a8-44bc-a649-0cd70f1c1bda",
   "metadata": {},
   "source": [
    "### Import dependencies"
   ]
  },
  {
   "cell_type": "code",
   "execution_count": null,
   "id": "3a8cf30b-771d-4609-8463-b033fc5f6e04",
   "metadata": {},
   "outputs": [],
   "source": [
    "import pandas as pd\n",
    "import numpy as np\n",
    "\n",
    "import chickenstats\n",
    "\n",
    "from chickenstats.chicken_nhl import Season, Scraper\n",
    "from chickenstats.chicken_nhl.info import NHL_COLORS\n",
    "from chickenstats.chicken_nhl.helpers import norm_coords\n",
    "import chickenstats.utilities\n",
    "\n",
    "from hockey_rink import NHLRink\n",
    "import matplotlib.pyplot as plt\n",
    "import matplotlib as mpl\n",
    "import seaborn as sns\n",
    "\n",
    "from dotenv import load_dotenv\n",
    "from pathlib import Path\n",
    "import os\n",
    "\n",
    "import requests\n",
    "\n",
    "from rich.progress import track\n",
    "\n",
    "from sqlmodel import Table, SQLModel, Field\n",
    "\n",
    "\n",
    "import datetime as dt"
   ]
  },
  {
   "cell_type": "markdown",
   "id": "cc05d3d0-f896-4612-82c5-3e03edf4fb3a",
   "metadata": {},
   "source": [
    "### Pandas options"
   ]
  },
  {
   "cell_type": "code",
   "execution_count": null,
   "id": "32bec64e-a189-4cf7-9f3d-5e432f3aa540",
   "metadata": {},
   "outputs": [],
   "source": [
    "pd.set_option(\"display.max_columns\", None)\n",
    "pd.set_option(\"display.max_rows\", 100)"
   ]
  },
  {
   "cell_type": "markdown",
   "id": "ef017e73-16df-4f7e-902f-8c650a8baa9d",
   "metadata": {},
   "source": [
    "### Environment variables"
   ]
  },
  {
   "cell_type": "code",
   "execution_count": null,
   "id": "8bfb8265-2d50-4214-a255-f925e8c32707",
   "metadata": {},
   "outputs": [],
   "source": [
    "env_path = Path(\"../.env\")\n",
    "load_dotenv(env_path)"
   ]
  },
  {
   "cell_type": "markdown",
   "id": "c851ce8d-25d9-4179-9731-b72b3d90748c",
   "metadata": {},
   "source": [
    "### Chickenstats matplotlib style"
   ]
  },
  {
   "cell_type": "code",
   "execution_count": null,
   "id": "0788e809-5cbe-495a-ab58-3c70741052a9",
   "metadata": {},
   "outputs": [],
   "source": [
    "plt.style.use(\"chickenstats\")"
   ]
  },
  {
   "cell_type": "markdown",
   "id": "f5ac0782-5846-459d-8e51-0fbf4e51a076",
   "metadata": {},
   "source": [
    "## Scrape data"
   ]
  },
  {
   "cell_type": "markdown",
   "id": "6635cb8b-e9d3-499f-9c76-a2a682fe0490",
   "metadata": {},
   "source": [
    "### Schedule and game IDs"
   ]
  },
  {
   "cell_type": "code",
   "execution_count": null,
   "id": "f9f617c2-c771-4fc8-91af-316b9cec7824",
   "metadata": {},
   "outputs": [],
   "source": [
    "season = Season(2024)"
   ]
  },
  {
   "cell_type": "code",
   "execution_count": null,
   "id": "6370fded-b161-4f9e-a99b-e8f9c7cd20de",
   "metadata": {},
   "outputs": [],
   "source": [
    "schedule = season.schedule()"
   ]
  },
  {
   "cell_type": "code",
   "execution_count": null,
   "id": "0a270cc0-af15-4a10-9740-16613d9bf72c",
   "metadata": {},
   "outputs": [],
   "source": [
    "game_ids = schedule.loc[schedule.game_state == \"OFF\"].game_id.tolist()  # [:10]\n",
    "live_game_ids = schedule.loc[schedule.game_state == \"LIVE\"].game_id.tolist()"
   ]
  },
  {
   "cell_type": "markdown",
   "id": "d6123005-eff4-4e2a-96f2-36a0027abbcc",
   "metadata": {},
   "source": [
    "### Play-by-play"
   ]
  },
  {
   "cell_type": "code",
   "execution_count": null,
   "id": "2f633de0-edc9-4568-a48b-750e02b89922",
   "metadata": {},
   "outputs": [],
   "source": [
    "scraper = Scraper(game_ids)"
   ]
  },
  {
   "cell_type": "code",
   "execution_count": null,
   "id": "4a89bad9-081b-49ed-8fd3-f3ef6497c1a9",
   "metadata": {},
   "outputs": [],
   "source": [
    "pbp = scraper.play_by_play"
   ]
  },
  {
   "cell_type": "code",
   "execution_count": null,
   "id": "a434edf7-309f-4992-9f90-0e6ebd26d51d",
   "metadata": {},
   "outputs": [],
   "source": [
    "scraper.prep_stats(level=\"season\")\n",
    "stats = scraper.stats.reset_index(drop=True)"
   ]
  },
  {
   "cell_type": "code",
   "execution_count": null,
   "id": "dfd76b1c-e4f5-490f-bcaf-0a1fc4333b5c",
   "metadata": {},
   "outputs": [],
   "source": [
    "scraper.prep_lines(level=\"season\")\n",
    "lines = scraper.lines.reset_index(drop=True)"
   ]
  },
  {
   "cell_type": "code",
   "execution_count": null,
   "id": "00320d1d-8f93-480e-a3a6-620e7d18a998",
   "metadata": {},
   "outputs": [],
   "source": [
    "scraper.prep_team_stats(level=\"season\")\n",
    "team_stats = scraper.team_stats.reset_index(drop=True)"
   ]
  },
  {
   "cell_type": "markdown",
   "id": "2d1771a6-fa3f-4711-aa1c-5f33609d3806",
   "metadata": {},
   "source": [
    "## Rink maps"
   ]
  },
  {
   "cell_type": "markdown",
   "id": "7fc164bd-3c11-4df9-b9c6-d0dea9f48501",
   "metadata": {},
   "source": [
    "### NHLRink"
   ]
  },
  {
   "cell_type": "code",
   "execution_count": null,
   "id": "b7903e00-e4db-40d3-b8f7-0f2ec7fceadf",
   "metadata": {},
   "outputs": [],
   "source": [
    "rink = NHLRink(rotation=90)"
   ]
  },
  {
   "cell_type": "markdown",
   "id": "7c200f28-735c-4f94-b2f1-621202868d1e",
   "metadata": {},
   "source": [
    "### Top-6 forward line combos at 5v5"
   ]
  },
  {
   "cell_type": "code",
   "execution_count": null,
   "id": "e26312b9-4d9a-429a-a8c3-a34296436a4b",
   "metadata": {},
   "outputs": [],
   "source": [
    "team = \"NSH\"\n",
    "strength_state = \"5v5\"\n",
    "toi_min = 12\n",
    "max_lines = 3\n",
    "\n",
    "conds = np.logical_and.reduce(\n",
    "    [lines.team == team, lines.strength_state == strength_state, lines.toi >= toi_min]\n",
    ")\n",
    "\n",
    "plot_lines = (\n",
    "    lines.loc[conds]\n",
    "    .sort_values(by=\"toi\", ascending=False)\n",
    "    .head(max_lines)\n",
    "    .reset_index(drop=True)\n",
    ")\n",
    "\n",
    "\n",
    "# Setting overall figures\n",
    "fig, axes = plt.subplots(nrows=2, ncols=max_lines, dpi=650, figsize=(16, 8))\n",
    "\n",
    "fig.tight_layout(pad=1.5)\n",
    "\n",
    "axes = axes.reshape(-1)\n",
    "\n",
    "for row, line in plot_lines.iterrows():\n",
    "    ax = axes[row]\n",
    "\n",
    "    if row > 5:\n",
    "        ax_zone = \"dzone\"\n",
    "\n",
    "    else:\n",
    "        ax_zone = \"ozone\"\n",
    "\n",
    "    rink.draw(ax=ax, display_range=ax_zone)\n",
    "\n",
    "    shot_events = [\"MISS\", \"SHOT\", \"GOAL\"]\n",
    "\n",
    "    plot_conds = np.logical_and.reduce(\n",
    "        [\n",
    "            pbp.forwards == line.forwards,\n",
    "            pbp.forwards_api_id == line.forwards_api_id,\n",
    "            pbp.strength_state == strength_state,\n",
    "            pbp.event.isin(shot_events),\n",
    "        ]\n",
    "    )\n",
    "\n",
    "    plot_data = pbp.loc[plot_conds].reset_index(drop=True)\n",
    "\n",
    "    plot_data = norm_coords(data=plot_data, norm_team=line.team)\n",
    "\n",
    "    size_multiplier = 500\n",
    "\n",
    "    plot_data[\"pred_goal_size\"] = plot_data.pred_goal * size_multiplier\n",
    "\n",
    "    for shot_event in shot_events:\n",
    "        conds = np.logical_and(\n",
    "            plot_data.forwards_api_id == line.forwards_api_id,\n",
    "            plot_data.event == shot_event,\n",
    "        )\n",
    "\n",
    "        plot_data2 = plot_data.loc[conds]\n",
    "\n",
    "        if plot_data2.empty:\n",
    "            continue\n",
    "\n",
    "        colors = NHL_COLORS[plot_data2.iloc[0].event_team]\n",
    "\n",
    "        facecolor = colors[shot_event]\n",
    "\n",
    "        if shot_event == \"MISS\" or shot_event == \"SHOT\":\n",
    "            edgecolor = \"#FFFFFF\"\n",
    "\n",
    "        elif shot_event == \"GOAL\":\n",
    "            if facecolor == \"#FFFFFF\":\n",
    "                edgecolor = colors[\"SHOT\"]\n",
    "\n",
    "            else:\n",
    "                edgecolor = \"#FFFFFF\"\n",
    "\n",
    "        rink.plot_fn(\n",
    "            sns.scatterplot,\n",
    "            data=plot_data2,\n",
    "            x=\"norm_coords_x\",\n",
    "            y=\"norm_coords_y\",\n",
    "            color=facecolor,\n",
    "            edgecolor=edgecolor,\n",
    "            lw=0.75,\n",
    "            s=plot_data2.pred_goal_size,\n",
    "            # sizes=(0, size_multiplier),\n",
    "            size_norm=(0, size_multiplier),\n",
    "            zorder=100,\n",
    "            alpha=0.75,\n",
    "            ax=ax,\n",
    "        )\n",
    "\n",
    "    ax.set_title(\n",
    "        f\"{line.forwards}\", x=0.5, y=1.01, ha=\"center\", fontweight=\"bold\", fontsize=10\n",
    "    )\n",
    "\n",
    "\n",
    "for row, line in plot_lines.iterrows():\n",
    "    row = row + max_lines\n",
    "\n",
    "    ax = axes[row]\n",
    "\n",
    "    if row > max_lines - 1:\n",
    "        ax_zone = \"dzone\"\n",
    "\n",
    "    else:\n",
    "        ax_zone = \"ozone\"\n",
    "\n",
    "    rink.draw(ax=ax, display_range=ax_zone)\n",
    "\n",
    "    shot_events = [\"MISS\", \"SHOT\", \"GOAL\"]\n",
    "\n",
    "    plot_conds = np.logical_and.reduce(\n",
    "        [\n",
    "            pbp.opp_forwards == line.forwards,\n",
    "            pbp.opp_forwards_api_id == line.forwards_api_id,\n",
    "            pbp.strength_state == strength_state,\n",
    "            pbp.event.isin(shot_events),\n",
    "        ]\n",
    "    )\n",
    "\n",
    "    plot_data = pbp.loc[plot_conds].reset_index(drop=True)\n",
    "\n",
    "    plot_data = norm_coords(data=plot_data, norm_team=line.team)\n",
    "\n",
    "    size_multiplier = 500\n",
    "\n",
    "    plot_data[\"pred_goal_size\"] = plot_data.pred_goal * size_multiplier\n",
    "\n",
    "    for shot_event in shot_events:\n",
    "        conds = np.logical_and(\n",
    "            plot_data.opp_forwards_api_id == line.forwards_api_id,\n",
    "            plot_data.event == shot_event,\n",
    "        )\n",
    "\n",
    "        plot_data2 = plot_data.loc[conds]\n",
    "\n",
    "        if plot_data2.empty:\n",
    "            continue\n",
    "\n",
    "        colors = NHL_COLORS[plot_data2.iloc[0].opp_team]\n",
    "\n",
    "        facecolor = colors[shot_event]\n",
    "\n",
    "        if shot_event == \"MISS\" or shot_event == \"SHOT\":\n",
    "            edgecolor = \"#FFFFFF\"\n",
    "\n",
    "        elif shot_event == \"GOAL\":\n",
    "            if facecolor == \"#FFFFFF\":\n",
    "                edgecolor = colors[\"SHOT\"]\n",
    "\n",
    "            else:\n",
    "                edgecolor = \"#FFFFFF\"\n",
    "\n",
    "        rink.plot_fn(\n",
    "            sns.scatterplot,\n",
    "            data=plot_data2,\n",
    "            x=\"norm_coords_x\",\n",
    "            y=\"norm_coords_y\",\n",
    "            color=facecolor,\n",
    "            edgecolor=edgecolor,\n",
    "            lw=0.75,\n",
    "            s=plot_data2.pred_goal_size,\n",
    "            # sizes=(0, size_multiplier),\n",
    "            size_norm=(0, size_multiplier),\n",
    "            zorder=100,\n",
    "            alpha=0.75,\n",
    "            ax=ax,\n",
    "        )\n",
    "\n",
    "\n",
    "fig_title = \"Nashville forward lines aren't converting 5v5 scoring chances\"\n",
    "\n",
    "fig.suptitle(fig_title, x=0.5, y=1.1, fontweight=\"bold\", fontsize=14)\n",
    "\n",
    "subtitle = \"NSH top-3 forward line combinations by 5v5 TOI | 5v5 unblocked shot attempts for & against, sized for xG\"\n",
    "fig.text(s=subtitle, x=0.5, y=1.05, fontsize=12, ha=\"center\")\n",
    "\n",
    "attribution = \"Data & xG model @chickenandstats | Viz @chickenandstats\"\n",
    "fig.text(s=attribution, x=0.95, y=-0.02, fontsize=12, ha=\"right\", style=\"italic\")\n",
    "\n",
    "savepath = Path(f\"./charts/5v5_lines.png\")\n",
    "# fig.savefig(savepath, transparent=False, bbox_inches=\"tight\")"
   ]
  }
 ],
 "metadata": {
  "kernelspec": {
   "display_name": "Python 3 (ipykernel)",
   "language": "python",
   "name": "python3"
  },
  "language_info": {
   "codemirror_mode": {
    "name": "ipython",
    "version": 3
   },
   "file_extension": ".py",
   "mimetype": "text/x-python",
   "name": "python",
   "nbconvert_exporter": "python",
   "pygments_lexer": "ipython3",
   "version": "3.12.6"
  }
 },
 "nbformat": 4,
 "nbformat_minor": 5
}
